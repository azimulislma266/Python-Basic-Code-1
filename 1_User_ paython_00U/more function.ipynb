{
 "cells": [
  {
   "cell_type": "code",
   "execution_count": 1,
   "source": [
    "import math\r\n",
    "\r\n",
    "\r\n",
    "degree = float(input('Enter a degre number  '))\r\n",
    "redan = (degree * math.pi) /180\r\n",
    "sig = math.cos(redan) #  cos a number convert\r\n",
    "Acos = math.acos(0.5) # cos number convert\r\n",
    "gsagu = math.gcd(20,150)\r\n",
    "\r\n",
    "\r\n",
    "\r\n",
    "print(sig)\r\n",
    "print(Acos)\r\n",
    "print(math.fabs(1)) # fabs hocce jay kono flot ar abslud number ta ber kore day\r\n",
    "print(math.exp(2)) # e to the power \r\n",
    "print(gsagu)\r\n",
    "\r\n"
   ],
   "outputs": [
    {
     "output_type": "stream",
     "name": "stdout",
     "text": [
      "Enter a degre number  30\n",
      "0.8660254037844387\n",
      "1.0471975511965979\n",
      "1.0\n",
      "7.38905609893065\n",
      "10\n"
     ]
    }
   ],
   "metadata": {}
  },
  {
   "cell_type": "code",
   "execution_count": null,
   "source": [
    "import math\r\n",
    "\r\n",
    "print(math.sin(0.5235987755982989))\r\n",
    "\r\n",
    "print(math.asin(0.5))\r\n",
    "\r\n",
    "redan = (30*math.pi)/180\r\n",
    "print(redan)"
   ],
   "outputs": [],
   "metadata": {}
  },
  {
   "cell_type": "code",
   "execution_count": null,
   "source": [
    "print('hello world')"
   ],
   "outputs": [],
   "metadata": {}
  },
  {
   "cell_type": "code",
   "execution_count": null,
   "source": [],
   "outputs": [],
   "metadata": {}
  }
 ],
 "metadata": {
  "kernelspec": {
   "display_name": "Python 3",
   "language": "python",
   "name": "python3"
  },
  "language_info": {
   "codemirror_mode": {
    "name": "ipython",
    "version": 3
   },
   "file_extension": ".py",
   "mimetype": "text/x-python",
   "name": "python",
   "nbconvert_exporter": "python",
   "pygments_lexer": "ipython3",
   "version": "3.8.10"
  }
 },
 "nbformat": 4,
 "nbformat_minor": 5
}