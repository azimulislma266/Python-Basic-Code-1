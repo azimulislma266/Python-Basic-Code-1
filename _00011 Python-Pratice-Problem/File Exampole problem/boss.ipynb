{
 "cells": [
  {
   "cell_type": "code",
   "execution_count": 9,
   "source": [
    "\r\n",
    "file = open(r'C:\\\\Users\\Azimul islam\\Desktop\\Country.txt')\r\n",
    "\r\n",
    "for line in file:\r\n",
    "    print(line)\r\n",
    "\r\n"
   ],
   "outputs": [
    {
     "output_type": "stream",
     "name": "stdout",
     "text": [
      "Country Capital Currency\n",
      "\n",
      "Bangladesh Dhaka Taka\n",
      "\n",
      "India New-Delhi Rupees\n",
      "\n",
      "China Beijing Renminbi\n",
      "\n",
      "Srilanka Colombo Rupees\n",
      "\n",
      "USA New-York Dollars\n"
     ]
    }
   ],
   "metadata": {}
  },
  {
   "cell_type": "code",
   "execution_count": null,
   "source": [],
   "outputs": [],
   "metadata": {}
  },
  {
   "cell_type": "code",
   "execution_count": null,
   "source": [],
   "outputs": [],
   "metadata": {}
  }
 ],
 "metadata": {
  "orig_nbformat": 4,
  "language_info": {
   "name": "python",
   "version": "3.8.10",
   "mimetype": "text/x-python",
   "codemirror_mode": {
    "name": "ipython",
    "version": 3
   },
   "pygments_lexer": "ipython3",
   "nbconvert_exporter": "python",
   "file_extension": ".py"
  },
  "kernelspec": {
   "name": "python3",
   "display_name": "Python 3.8.10 64-bit ('a': conda)"
  },
  "interpreter": {
   "hash": "6d9b8b55280c74c8448fe5a5a2df1f164a299376374b3d46cba56a0268a31c8c"
  }
 },
 "nbformat": 4,
 "nbformat_minor": 2
}